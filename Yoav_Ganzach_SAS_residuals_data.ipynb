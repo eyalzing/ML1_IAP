{
  "nbformat": 4,
  "nbformat_minor": 0,
  "metadata": {
    "colab": {
      "name": "Yoav_Ganzach_SAS_residuals_data.ipynb",
      "provenance": [],
      "authorship_tag": "ABX9TyNL4471Jv0C9nMXmxCd+8jm",
      "include_colab_link": true
    },
    "kernelspec": {
      "name": "python3",
      "display_name": "Python 3"
    },
    "language_info": {
      "name": "python"
    }
  },
  "cells": [
    {
      "cell_type": "markdown",
      "metadata": {
        "id": "view-in-github",
        "colab_type": "text"
      },
      "source": [
        "<a href=\"https://colab.research.google.com/github/eyalzing/ML1_IAP/blob/master/Yoav_Ganzach_SAS_residuals_data.ipynb\" target=\"_parent\"><img src=\"https://colab.research.google.com/assets/colab-badge.svg\" alt=\"Open In Colab\"/></a>"
      ]
    },
    {
      "cell_type": "code",
      "source": [
        "!pip install sas7bdat\n"
      ],
      "metadata": {
        "colab": {
          "base_uri": "https://localhost:8080/"
        },
        "id": "ZpPxfY4XEAdy",
        "outputId": "df40986c-d603-4c67-aeec-b21b7d813042"
      },
      "execution_count": 3,
      "outputs": [
        {
          "output_type": "stream",
          "name": "stdout",
          "text": [
            "Looking in indexes: https://pypi.org/simple, https://us-python.pkg.dev/colab-wheels/public/simple/\n",
            "Collecting sas7bdat\n",
            "  Downloading sas7bdat-2.2.3.tar.gz (16 kB)\n",
            "Requirement already satisfied: six>=1.8.0 in /usr/local/lib/python3.7/dist-packages (from sas7bdat) (1.15.0)\n",
            "Building wheels for collected packages: sas7bdat\n",
            "  Building wheel for sas7bdat (setup.py) ... \u001b[?25l\u001b[?25hdone\n",
            "  Created wheel for sas7bdat: filename=sas7bdat-2.2.3-py3-none-any.whl size=16309 sha256=aafd896ebce2bbe640b7f16af6fcd14bdb51469a15ff4a99bed9bdce023d8e3c\n",
            "  Stored in directory: /root/.cache/pip/wheels/69/dd/ca/1fd7bf96640d87457056b763e015e20d8e566041bd3273d966\n",
            "Successfully built sas7bdat\n",
            "Installing collected packages: sas7bdat\n",
            "Successfully installed sas7bdat-2.2.3\n"
          ]
        }
      ]
    },
    {
      "cell_type": "code",
      "source": [
        "#!python\n",
        "from sas7bdat import SAS7BDAT\n",
        "with SAS7BDAT('mall.sas7bdat', skip_header=False) as reader:\n",
        "  df = reader.to_data_frame()"
      ],
      "metadata": {
        "id": "Cz9b607yDqfd"
      },
      "execution_count": 8,
      "outputs": []
    },
    {
      "cell_type": "code",
      "execution_count": 9,
      "metadata": {
        "colab": {
          "base_uri": "https://localhost:8080/",
          "height": 206
        },
        "id": "IYnDH3rMDVjt",
        "outputId": "0028aa55-3880-4109-cde4-5dae65195a8d"
      },
      "outputs": [
        {
          "output_type": "execute_result",
          "data": {
            "text/plain": [
              "         S1        S2        S3        S4        S5        S6        S7  \\\n",
              "0  0.879129  1.264443  0.193559 -0.017278 -0.294170 -0.764328 -0.225126   \n",
              "1  0.879129  0.140697  0.958530  0.293946 -1.542137  0.299081 -0.225126   \n",
              "2 -0.102410 -0.084053  0.412122 -1.137685  0.102910 -0.273524  0.612530   \n",
              "3 -0.102410  1.039694 -1.227102  1.725578  1.067248  1.607891  0.361233   \n",
              "4 -0.102410  0.140697 -0.789975  0.605170  2.031586  0.626283  1.366421   \n",
              "\n",
              "         S8        S9       S10       S11      MALL         r  \n",
              "0 -0.953145 -0.693299 -0.039974  1.063175  0.378442  0.091167  \n",
              "1 -0.420192 -0.322650 -0.410722  0.895812 -1.064473 -0.743164  \n",
              "2 -0.953145 -0.013776 -0.287140  0.226359 -0.643623 -0.370106  \n",
              "3  1.356315  1.468820  1.504810  0.644767  0.979656  0.021495  \n",
              "4 -1.219621  0.295099 -0.534305 -1.028867 -0.242813  0.624058  "
            ],
            "text/html": [
              "\n",
              "  <div id=\"df-91756bbd-fba3-42de-84c1-a992d35eee8d\">\n",
              "    <div class=\"colab-df-container\">\n",
              "      <div>\n",
              "<style scoped>\n",
              "    .dataframe tbody tr th:only-of-type {\n",
              "        vertical-align: middle;\n",
              "    }\n",
              "\n",
              "    .dataframe tbody tr th {\n",
              "        vertical-align: top;\n",
              "    }\n",
              "\n",
              "    .dataframe thead th {\n",
              "        text-align: right;\n",
              "    }\n",
              "</style>\n",
              "<table border=\"1\" class=\"dataframe\">\n",
              "  <thead>\n",
              "    <tr style=\"text-align: right;\">\n",
              "      <th></th>\n",
              "      <th>S1</th>\n",
              "      <th>S2</th>\n",
              "      <th>S3</th>\n",
              "      <th>S4</th>\n",
              "      <th>S5</th>\n",
              "      <th>S6</th>\n",
              "      <th>S7</th>\n",
              "      <th>S8</th>\n",
              "      <th>S9</th>\n",
              "      <th>S10</th>\n",
              "      <th>S11</th>\n",
              "      <th>MALL</th>\n",
              "      <th>r</th>\n",
              "    </tr>\n",
              "  </thead>\n",
              "  <tbody>\n",
              "    <tr>\n",
              "      <th>0</th>\n",
              "      <td>0.879129</td>\n",
              "      <td>1.264443</td>\n",
              "      <td>0.193559</td>\n",
              "      <td>-0.017278</td>\n",
              "      <td>-0.294170</td>\n",
              "      <td>-0.764328</td>\n",
              "      <td>-0.225126</td>\n",
              "      <td>-0.953145</td>\n",
              "      <td>-0.693299</td>\n",
              "      <td>-0.039974</td>\n",
              "      <td>1.063175</td>\n",
              "      <td>0.378442</td>\n",
              "      <td>0.091167</td>\n",
              "    </tr>\n",
              "    <tr>\n",
              "      <th>1</th>\n",
              "      <td>0.879129</td>\n",
              "      <td>0.140697</td>\n",
              "      <td>0.958530</td>\n",
              "      <td>0.293946</td>\n",
              "      <td>-1.542137</td>\n",
              "      <td>0.299081</td>\n",
              "      <td>-0.225126</td>\n",
              "      <td>-0.420192</td>\n",
              "      <td>-0.322650</td>\n",
              "      <td>-0.410722</td>\n",
              "      <td>0.895812</td>\n",
              "      <td>-1.064473</td>\n",
              "      <td>-0.743164</td>\n",
              "    </tr>\n",
              "    <tr>\n",
              "      <th>2</th>\n",
              "      <td>-0.102410</td>\n",
              "      <td>-0.084053</td>\n",
              "      <td>0.412122</td>\n",
              "      <td>-1.137685</td>\n",
              "      <td>0.102910</td>\n",
              "      <td>-0.273524</td>\n",
              "      <td>0.612530</td>\n",
              "      <td>-0.953145</td>\n",
              "      <td>-0.013776</td>\n",
              "      <td>-0.287140</td>\n",
              "      <td>0.226359</td>\n",
              "      <td>-0.643623</td>\n",
              "      <td>-0.370106</td>\n",
              "    </tr>\n",
              "    <tr>\n",
              "      <th>3</th>\n",
              "      <td>-0.102410</td>\n",
              "      <td>1.039694</td>\n",
              "      <td>-1.227102</td>\n",
              "      <td>1.725578</td>\n",
              "      <td>1.067248</td>\n",
              "      <td>1.607891</td>\n",
              "      <td>0.361233</td>\n",
              "      <td>1.356315</td>\n",
              "      <td>1.468820</td>\n",
              "      <td>1.504810</td>\n",
              "      <td>0.644767</td>\n",
              "      <td>0.979656</td>\n",
              "      <td>0.021495</td>\n",
              "    </tr>\n",
              "    <tr>\n",
              "      <th>4</th>\n",
              "      <td>-0.102410</td>\n",
              "      <td>0.140697</td>\n",
              "      <td>-0.789975</td>\n",
              "      <td>0.605170</td>\n",
              "      <td>2.031586</td>\n",
              "      <td>0.626283</td>\n",
              "      <td>1.366421</td>\n",
              "      <td>-1.219621</td>\n",
              "      <td>0.295099</td>\n",
              "      <td>-0.534305</td>\n",
              "      <td>-1.028867</td>\n",
              "      <td>-0.242813</td>\n",
              "      <td>0.624058</td>\n",
              "    </tr>\n",
              "  </tbody>\n",
              "</table>\n",
              "</div>\n",
              "      <button class=\"colab-df-convert\" onclick=\"convertToInteractive('df-91756bbd-fba3-42de-84c1-a992d35eee8d')\"\n",
              "              title=\"Convert this dataframe to an interactive table.\"\n",
              "              style=\"display:none;\">\n",
              "        \n",
              "  <svg xmlns=\"http://www.w3.org/2000/svg\" height=\"24px\"viewBox=\"0 0 24 24\"\n",
              "       width=\"24px\">\n",
              "    <path d=\"M0 0h24v24H0V0z\" fill=\"none\"/>\n",
              "    <path d=\"M18.56 5.44l.94 2.06.94-2.06 2.06-.94-2.06-.94-.94-2.06-.94 2.06-2.06.94zm-11 1L8.5 8.5l.94-2.06 2.06-.94-2.06-.94L8.5 2.5l-.94 2.06-2.06.94zm10 10l.94 2.06.94-2.06 2.06-.94-2.06-.94-.94-2.06-.94 2.06-2.06.94z\"/><path d=\"M17.41 7.96l-1.37-1.37c-.4-.4-.92-.59-1.43-.59-.52 0-1.04.2-1.43.59L10.3 9.45l-7.72 7.72c-.78.78-.78 2.05 0 2.83L4 21.41c.39.39.9.59 1.41.59.51 0 1.02-.2 1.41-.59l7.78-7.78 2.81-2.81c.8-.78.8-2.07 0-2.86zM5.41 20L4 18.59l7.72-7.72 1.47 1.35L5.41 20z\"/>\n",
              "  </svg>\n",
              "      </button>\n",
              "      \n",
              "  <style>\n",
              "    .colab-df-container {\n",
              "      display:flex;\n",
              "      flex-wrap:wrap;\n",
              "      gap: 12px;\n",
              "    }\n",
              "\n",
              "    .colab-df-convert {\n",
              "      background-color: #E8F0FE;\n",
              "      border: none;\n",
              "      border-radius: 50%;\n",
              "      cursor: pointer;\n",
              "      display: none;\n",
              "      fill: #1967D2;\n",
              "      height: 32px;\n",
              "      padding: 0 0 0 0;\n",
              "      width: 32px;\n",
              "    }\n",
              "\n",
              "    .colab-df-convert:hover {\n",
              "      background-color: #E2EBFA;\n",
              "      box-shadow: 0px 1px 2px rgba(60, 64, 67, 0.3), 0px 1px 3px 1px rgba(60, 64, 67, 0.15);\n",
              "      fill: #174EA6;\n",
              "    }\n",
              "\n",
              "    [theme=dark] .colab-df-convert {\n",
              "      background-color: #3B4455;\n",
              "      fill: #D2E3FC;\n",
              "    }\n",
              "\n",
              "    [theme=dark] .colab-df-convert:hover {\n",
              "      background-color: #434B5C;\n",
              "      box-shadow: 0px 1px 3px 1px rgba(0, 0, 0, 0.15);\n",
              "      filter: drop-shadow(0px 1px 2px rgba(0, 0, 0, 0.3));\n",
              "      fill: #FFFFFF;\n",
              "    }\n",
              "  </style>\n",
              "\n",
              "      <script>\n",
              "        const buttonEl =\n",
              "          document.querySelector('#df-91756bbd-fba3-42de-84c1-a992d35eee8d button.colab-df-convert');\n",
              "        buttonEl.style.display =\n",
              "          google.colab.kernel.accessAllowed ? 'block' : 'none';\n",
              "\n",
              "        async function convertToInteractive(key) {\n",
              "          const element = document.querySelector('#df-91756bbd-fba3-42de-84c1-a992d35eee8d');\n",
              "          const dataTable =\n",
              "            await google.colab.kernel.invokeFunction('convertToInteractive',\n",
              "                                                     [key], {});\n",
              "          if (!dataTable) return;\n",
              "\n",
              "          const docLinkHtml = 'Like what you see? Visit the ' +\n",
              "            '<a target=\"_blank\" href=https://colab.research.google.com/notebooks/data_table.ipynb>data table notebook</a>'\n",
              "            + ' to learn more about interactive tables.';\n",
              "          element.innerHTML = '';\n",
              "          dataTable['output_type'] = 'display_data';\n",
              "          await google.colab.output.renderOutput(dataTable, element);\n",
              "          const docLink = document.createElement('div');\n",
              "          docLink.innerHTML = docLinkHtml;\n",
              "          element.appendChild(docLink);\n",
              "        }\n",
              "      </script>\n",
              "    </div>\n",
              "  </div>\n",
              "  "
            ]
          },
          "metadata": {},
          "execution_count": 9
        }
      ],
      "source": [
        "df.head()"
      ]
    },
    {
      "cell_type": "code",
      "source": [
        "df.shape"
      ],
      "metadata": {
        "colab": {
          "base_uri": "https://localhost:8080/"
        },
        "id": "8W5WB3QjEiG8",
        "outputId": "844a342b-d6ca-427c-edb0-66fddca6c7be"
      },
      "execution_count": 11,
      "outputs": [
        {
          "output_type": "execute_result",
          "data": {
            "text/plain": [
              "(861, 13)"
            ]
          },
          "metadata": {},
          "execution_count": 11
        }
      ]
    },
    {
      "cell_type": "code",
      "source": [
        "a=df.iloc[1,:11]\n",
        "a.sum()"
      ],
      "metadata": {
        "colab": {
          "base_uri": "https://localhost:8080/"
        },
        "id": "UBfuh2XzEyiN",
        "outputId": "ffd67901-a630-49dc-f991-4b157f7c1d43"
      },
      "execution_count": 20,
      "outputs": [
        {
          "output_type": "execute_result",
          "data": {
            "text/plain": [
              "0.5463664925156533"
            ]
          },
          "metadata": {},
          "execution_count": 20
        }
      ]
    }
  ]
}